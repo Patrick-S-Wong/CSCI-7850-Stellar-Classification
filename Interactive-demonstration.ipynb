{
 "cells": [
  {
   "cell_type": "markdown",
   "id": "525b1301-806a-4463-b094-bc24850dd43d",
   "metadata": {},
   "source": [
    "# Import of Python libraries needed in the experiement"
   ]
  },
  {
   "cell_type": "code",
   "execution_count": 1,
   "id": "e0408f81-3490-4ce9-aba7-3f8cee054b1b",
   "metadata": {},
   "outputs": [],
   "source": [
    "import numpy as np\n",
    "import tensorflow as tf\n",
    "import tensorflow.keras as keras\n",
    "import matplotlib.pyplot as plt\n",
    "import pandas as pd\n",
    "from sklearn.preprocessing import StandardScaler"
   ]
  },
  {
   "cell_type": "markdown",
   "id": "84175cc5-6e0d-465d-9628-c2f1563bdba7",
   "metadata": {},
   "source": [
    "# Reading in the data goes here"
   ]
  },
  {
   "cell_type": "code",
   "execution_count": 2,
   "id": "5a3be29d-bd18-4bc7-bff4-f15824a5b007",
   "metadata": {},
   "outputs": [],
   "source": [
    "file = \"star_classification.csv\""
   ]
  },
  {
   "cell_type": "markdown",
   "id": "d65429dd-e720-455a-8a02-5046fd310b71",
   "metadata": {},
   "source": [
    "# Examining the top 5 terms of the data and shape of table"
   ]
  },
  {
   "cell_type": "code",
   "execution_count": 3,
   "id": "6b704816-eb2e-4d8b-8055-8a86d00df9b3",
   "metadata": {},
   "outputs": [
    {
     "data": {
      "text/html": [
       "<div>\n",
       "<style scoped>\n",
       "    .dataframe tbody tr th:only-of-type {\n",
       "        vertical-align: middle;\n",
       "    }\n",
       "\n",
       "    .dataframe tbody tr th {\n",
       "        vertical-align: top;\n",
       "    }\n",
       "\n",
       "    .dataframe thead th {\n",
       "        text-align: right;\n",
       "    }\n",
       "</style>\n",
       "<table border=\"1\" class=\"dataframe\">\n",
       "  <thead>\n",
       "    <tr style=\"text-align: right;\">\n",
       "      <th></th>\n",
       "      <th>obj_ID</th>\n",
       "      <th>alpha</th>\n",
       "      <th>delta</th>\n",
       "      <th>u</th>\n",
       "      <th>g</th>\n",
       "      <th>r</th>\n",
       "      <th>i</th>\n",
       "      <th>z</th>\n",
       "      <th>run_ID</th>\n",
       "      <th>rerun_ID</th>\n",
       "      <th>cam_col</th>\n",
       "      <th>field_ID</th>\n",
       "      <th>spec_obj_ID</th>\n",
       "      <th>class</th>\n",
       "      <th>redshift</th>\n",
       "      <th>plate</th>\n",
       "      <th>MJD</th>\n",
       "      <th>fiber_ID</th>\n",
       "    </tr>\n",
       "  </thead>\n",
       "  <tbody>\n",
       "    <tr>\n",
       "      <th>0</th>\n",
       "      <td>1.237661e+18</td>\n",
       "      <td>135.689107</td>\n",
       "      <td>32.494632</td>\n",
       "      <td>23.87882</td>\n",
       "      <td>22.27530</td>\n",
       "      <td>20.39501</td>\n",
       "      <td>19.16573</td>\n",
       "      <td>18.79371</td>\n",
       "      <td>3606</td>\n",
       "      <td>301</td>\n",
       "      <td>2</td>\n",
       "      <td>79</td>\n",
       "      <td>6.543777e+18</td>\n",
       "      <td>GALAXY</td>\n",
       "      <td>0.634794</td>\n",
       "      <td>5812</td>\n",
       "      <td>56354</td>\n",
       "      <td>171</td>\n",
       "    </tr>\n",
       "    <tr>\n",
       "      <th>1</th>\n",
       "      <td>1.237665e+18</td>\n",
       "      <td>144.826101</td>\n",
       "      <td>31.274185</td>\n",
       "      <td>24.77759</td>\n",
       "      <td>22.83188</td>\n",
       "      <td>22.58444</td>\n",
       "      <td>21.16812</td>\n",
       "      <td>21.61427</td>\n",
       "      <td>4518</td>\n",
       "      <td>301</td>\n",
       "      <td>5</td>\n",
       "      <td>119</td>\n",
       "      <td>1.176014e+19</td>\n",
       "      <td>GALAXY</td>\n",
       "      <td>0.779136</td>\n",
       "      <td>10445</td>\n",
       "      <td>58158</td>\n",
       "      <td>427</td>\n",
       "    </tr>\n",
       "    <tr>\n",
       "      <th>2</th>\n",
       "      <td>1.237661e+18</td>\n",
       "      <td>142.188790</td>\n",
       "      <td>35.582444</td>\n",
       "      <td>25.26307</td>\n",
       "      <td>22.66389</td>\n",
       "      <td>20.60976</td>\n",
       "      <td>19.34857</td>\n",
       "      <td>18.94827</td>\n",
       "      <td>3606</td>\n",
       "      <td>301</td>\n",
       "      <td>2</td>\n",
       "      <td>120</td>\n",
       "      <td>5.152200e+18</td>\n",
       "      <td>GALAXY</td>\n",
       "      <td>0.644195</td>\n",
       "      <td>4576</td>\n",
       "      <td>55592</td>\n",
       "      <td>299</td>\n",
       "    </tr>\n",
       "    <tr>\n",
       "      <th>3</th>\n",
       "      <td>1.237663e+18</td>\n",
       "      <td>338.741038</td>\n",
       "      <td>-0.402828</td>\n",
       "      <td>22.13682</td>\n",
       "      <td>23.77656</td>\n",
       "      <td>21.61162</td>\n",
       "      <td>20.50454</td>\n",
       "      <td>19.25010</td>\n",
       "      <td>4192</td>\n",
       "      <td>301</td>\n",
       "      <td>3</td>\n",
       "      <td>214</td>\n",
       "      <td>1.030107e+19</td>\n",
       "      <td>GALAXY</td>\n",
       "      <td>0.932346</td>\n",
       "      <td>9149</td>\n",
       "      <td>58039</td>\n",
       "      <td>775</td>\n",
       "    </tr>\n",
       "    <tr>\n",
       "      <th>4</th>\n",
       "      <td>1.237680e+18</td>\n",
       "      <td>345.282593</td>\n",
       "      <td>21.183866</td>\n",
       "      <td>19.43718</td>\n",
       "      <td>17.58028</td>\n",
       "      <td>16.49747</td>\n",
       "      <td>15.97711</td>\n",
       "      <td>15.54461</td>\n",
       "      <td>8102</td>\n",
       "      <td>301</td>\n",
       "      <td>3</td>\n",
       "      <td>137</td>\n",
       "      <td>6.891865e+18</td>\n",
       "      <td>GALAXY</td>\n",
       "      <td>0.116123</td>\n",
       "      <td>6121</td>\n",
       "      <td>56187</td>\n",
       "      <td>842</td>\n",
       "    </tr>\n",
       "  </tbody>\n",
       "</table>\n",
       "</div>"
      ],
      "text/plain": [
       "         obj_ID       alpha      delta         u         g         r  \\\n",
       "0  1.237661e+18  135.689107  32.494632  23.87882  22.27530  20.39501   \n",
       "1  1.237665e+18  144.826101  31.274185  24.77759  22.83188  22.58444   \n",
       "2  1.237661e+18  142.188790  35.582444  25.26307  22.66389  20.60976   \n",
       "3  1.237663e+18  338.741038  -0.402828  22.13682  23.77656  21.61162   \n",
       "4  1.237680e+18  345.282593  21.183866  19.43718  17.58028  16.49747   \n",
       "\n",
       "          i         z  run_ID  rerun_ID  cam_col  field_ID   spec_obj_ID  \\\n",
       "0  19.16573  18.79371    3606       301        2        79  6.543777e+18   \n",
       "1  21.16812  21.61427    4518       301        5       119  1.176014e+19   \n",
       "2  19.34857  18.94827    3606       301        2       120  5.152200e+18   \n",
       "3  20.50454  19.25010    4192       301        3       214  1.030107e+19   \n",
       "4  15.97711  15.54461    8102       301        3       137  6.891865e+18   \n",
       "\n",
       "    class  redshift  plate    MJD  fiber_ID  \n",
       "0  GALAXY  0.634794   5812  56354       171  \n",
       "1  GALAXY  0.779136  10445  58158       427  \n",
       "2  GALAXY  0.644195   4576  55592       299  \n",
       "3  GALAXY  0.932346   9149  58039       775  \n",
       "4  GALAXY  0.116123   6121  56187       842  "
      ]
     },
     "execution_count": 3,
     "metadata": {},
     "output_type": "execute_result"
    }
   ],
   "source": [
    "df = pd.read_csv(file)\n",
    "df.head()"
   ]
  },
  {
   "cell_type": "markdown",
   "id": "99082e5e-68d8-479e-8299-29bf05863420",
   "metadata": {},
   "source": [
    "# Finding out the classes we have"
   ]
  },
  {
   "cell_type": "code",
   "execution_count": 4,
   "id": "65905aba-640e-4897-ab34-5321b28c6819",
   "metadata": {},
   "outputs": [
    {
     "data": {
      "text/plain": [
       "array(['GALAXY', 'QSO', 'STAR'], dtype=object)"
      ]
     },
     "execution_count": 4,
     "metadata": {},
     "output_type": "execute_result"
    }
   ],
   "source": [
    "df['class'].unique()"
   ]
  },
  {
   "cell_type": "markdown",
   "id": "50e03a6b-7833-45d2-b7bb-4427d07a9464",
   "metadata": {},
   "source": [
    "# Turning the strings from the classes into strings so Keras can interpret the values"
   ]
  },
  {
   "cell_type": "code",
   "execution_count": 5,
   "id": "79f33601-3e45-4e78-88f2-638037a3a318",
   "metadata": {},
   "outputs": [],
   "source": [
    "classes = np.array(df['class'])\n",
    "classesuniq, classesuniqcounts = np.unique(classes, return_counts=True)\n",
    "classeslabel = np.array([x for x in classes])\n",
    "classes = np.array([0 if i == \"GALAXY\" else 1 if i == \"STAR\" else 2 for i in classes], dtype='float64')\n",
    "classesuniq = np.array([0 if i == \"GALAXY\" else 1 if i == \"STAR\" else 2 for i in classesuniq], dtype='float64')"
   ]
  },
  {
   "cell_type": "markdown",
   "id": "2ce84065-1839-4724-a2d1-801eb0c000f5",
   "metadata": {},
   "source": [
    "# Ablation: Observing our changes to the data"
   ]
  },
  {
   "cell_type": "code",
   "execution_count": 6,
   "id": "0facf76c-4c06-452d-ade3-83338b514679",
   "metadata": {},
   "outputs": [
    {
     "data": {
      "text/html": [
       "<div>\n",
       "<style scoped>\n",
       "    .dataframe tbody tr th:only-of-type {\n",
       "        vertical-align: middle;\n",
       "    }\n",
       "\n",
       "    .dataframe tbody tr th {\n",
       "        vertical-align: top;\n",
       "    }\n",
       "\n",
       "    .dataframe thead th {\n",
       "        text-align: right;\n",
       "    }\n",
       "</style>\n",
       "<table border=\"1\" class=\"dataframe\">\n",
       "  <thead>\n",
       "    <tr style=\"text-align: right;\">\n",
       "      <th></th>\n",
       "      <th>alpha</th>\n",
       "      <th>delta</th>\n",
       "      <th>u</th>\n",
       "      <th>g</th>\n",
       "      <th>r</th>\n",
       "      <th>i</th>\n",
       "      <th>z</th>\n",
       "      <th>redshift</th>\n",
       "    </tr>\n",
       "  </thead>\n",
       "  <tbody>\n",
       "    <tr>\n",
       "      <th>0</th>\n",
       "      <td>135.689107</td>\n",
       "      <td>32.494632</td>\n",
       "      <td>23.87882</td>\n",
       "      <td>22.27530</td>\n",
       "      <td>20.39501</td>\n",
       "      <td>19.16573</td>\n",
       "      <td>18.79371</td>\n",
       "      <td>0.634794</td>\n",
       "    </tr>\n",
       "    <tr>\n",
       "      <th>1</th>\n",
       "      <td>144.826101</td>\n",
       "      <td>31.274185</td>\n",
       "      <td>24.77759</td>\n",
       "      <td>22.83188</td>\n",
       "      <td>22.58444</td>\n",
       "      <td>21.16812</td>\n",
       "      <td>21.61427</td>\n",
       "      <td>0.779136</td>\n",
       "    </tr>\n",
       "    <tr>\n",
       "      <th>2</th>\n",
       "      <td>142.188790</td>\n",
       "      <td>35.582444</td>\n",
       "      <td>25.26307</td>\n",
       "      <td>22.66389</td>\n",
       "      <td>20.60976</td>\n",
       "      <td>19.34857</td>\n",
       "      <td>18.94827</td>\n",
       "      <td>0.644195</td>\n",
       "    </tr>\n",
       "    <tr>\n",
       "      <th>3</th>\n",
       "      <td>338.741038</td>\n",
       "      <td>-0.402828</td>\n",
       "      <td>22.13682</td>\n",
       "      <td>23.77656</td>\n",
       "      <td>21.61162</td>\n",
       "      <td>20.50454</td>\n",
       "      <td>19.25010</td>\n",
       "      <td>0.932346</td>\n",
       "    </tr>\n",
       "    <tr>\n",
       "      <th>4</th>\n",
       "      <td>345.282593</td>\n",
       "      <td>21.183866</td>\n",
       "      <td>19.43718</td>\n",
       "      <td>17.58028</td>\n",
       "      <td>16.49747</td>\n",
       "      <td>15.97711</td>\n",
       "      <td>15.54461</td>\n",
       "      <td>0.116123</td>\n",
       "    </tr>\n",
       "  </tbody>\n",
       "</table>\n",
       "</div>"
      ],
      "text/plain": [
       "        alpha      delta         u         g         r         i         z  \\\n",
       "0  135.689107  32.494632  23.87882  22.27530  20.39501  19.16573  18.79371   \n",
       "1  144.826101  31.274185  24.77759  22.83188  22.58444  21.16812  21.61427   \n",
       "2  142.188790  35.582444  25.26307  22.66389  20.60976  19.34857  18.94827   \n",
       "3  338.741038  -0.402828  22.13682  23.77656  21.61162  20.50454  19.25010   \n",
       "4  345.282593  21.183866  19.43718  17.58028  16.49747  15.97711  15.54461   \n",
       "\n",
       "   redshift  \n",
       "0  0.634794  \n",
       "1  0.779136  \n",
       "2  0.644195  \n",
       "3  0.932346  \n",
       "4  0.116123  "
      ]
     },
     "execution_count": 6,
     "metadata": {},
     "output_type": "execute_result"
    }
   ],
   "source": [
    "df.drop(['class', 'obj_ID', 'run_ID', 'rerun_ID', 'cam_col', 'field_ID', 'spec_obj_ID', 'plate', 'MJD', 'fiber_ID'], axis=1, inplace=True)\n",
    "df.head()"
   ]
  },
  {
   "cell_type": "markdown",
   "id": "c07d1507-3103-4300-9d94-0b4f34839e65",
   "metadata": {},
   "source": [
    "# Bar graph for distribution of our classes "
   ]
  },
  {
   "cell_type": "code",
   "execution_count": 7,
   "id": "7c374b77-a2f0-425b-82b3-3c854916e496",
   "metadata": {},
   "outputs": [
    {
     "data": {
      "image/png": "[encoded data removed]",
      "text/plain": [
       "<Figure size 432x288 with 1 Axes>"
      ]
     },
     "metadata": {
      "needs_background": "light"
     },
     "output_type": "display_data"
    }
   ],
   "source": [
    "bar_colors = ['tab:red', 'tab:blue', 'tab:green']\n",
    "plt.bar(np.unique(classeslabel),classesuniqcounts, color=bar_colors)\n",
    "plt.grid(color='#95a5a6', linestyle='--', linewidth=2, axis='y', alpha=0.7)\n",
    "plt.show()"
   ]
  },
  {
   "cell_type": "markdown",
   "id": "7568a448-750f-4d9e-966c-9b5b23c36a10",
   "metadata": {},
   "source": [
    "# Standardization of data"
   ]
  },
  {
   "cell_type": "code",
   "execution_count": 8,
   "id": "ca964b15-88ac-4dd9-87a2-7ea2ec358478",
   "metadata": {},
   "outputs": [
    {
     "data": {
      "text/plain": [
       "array([135.6891066 ,  32.49463184,  23.87882   ,  22.2753    ,\n",
       "        20.39501   ,  19.16573   ,  18.79371   ,   0.6347936 ])"
      ]
     },
     "execution_count": 8,
     "metadata": {},
     "output_type": "execute_result"
    }
   ],
   "source": [
    "data = np.array(df, dtype='float64')\n",
    "data[0]"
   ]
  },
  {
   "cell_type": "code",
   "execution_count": 9,
   "id": "ecfda10a-1edb-4044-a631-7d497a0ea413",
   "metadata": {},
   "outputs": [],
   "source": [
    "scaler = StandardScaler()\n",
    "data = scaler.fit_transform(data)"
   ]
  },
  {
   "cell_type": "code",
   "execution_count": 10,
   "id": "e2ab387e-f200-459e-9d56-342381fb012b",
   "metadata": {},
   "outputs": [
    {
     "data": {
      "text/plain": [
       "array([-0.43460358,  0.42552871,  0.0597546 ,  0.05492616,  0.40396155,\n",
       "        0.0460074 ,  0.00393658,  0.07955728])"
      ]
     },
     "execution_count": 10,
     "metadata": {},
     "output_type": "execute_result"
    }
   ],
   "source": [
    "data[0]"
   ]
  },
  {
   "cell_type": "markdown",
   "id": "c3df5510-76b5-4a41-b2d0-386fd40b1a30",
   "metadata": {},
   "source": [
    "# Monty Carlo shuffling"
   ]
  },
  {
   "cell_type": "code",
   "execution_count": 11,
   "id": "3344eed0-573f-49ad-ba8a-830a81a37992",
   "metadata": {},
   "outputs": [],
   "source": [
    "shuffle = np.random.permutation(data.shape[0])\n",
    "data_shuffled = data[shuffle,:]\n",
    "classes_shuffled = classes[shuffle]"
   ]
  },
  {
   "cell_type": "markdown",
   "id": "b24deafd-e4fa-40e2-b07a-2ed6b2dff4a5",
   "metadata": {},
   "source": [
    "# Model creation here"
   ]
  },
  {
   "cell_type": "code",
   "execution_count": 12,
   "id": "399c7b6e-3a42-4b21-a234-78c9318fb196",
   "metadata": {},
   "outputs": [
    {
     "name": "stdout",
     "output_type": "stream",
     "text": [
      "Model: \"model\"\n",
      "_________________________________________________________________\n",
      " Layer (type)                Output Shape              Param #   \n",
      "=================================================================\n",
      " input_1 (InputLayer)        [(None, 8)]               0         \n",
      "                                                                 \n",
      " dense (Dense)               (None, 32)                288       \n",
      "                                                                 \n",
      " dense_1 (Dense)             (None, 3)                 99        \n",
      "                                                                 \n",
      "=================================================================\n",
      "Total params: 387\n",
      "Trainable params: 387\n",
      "Non-trainable params: 0\n",
      "_________________________________________________________________\n"
     ]
    },
    {
     "name": "stderr",
     "output_type": "stream",
     "text": [
      "2022-12-08 03:13:11.304482: W tensorflow/stream_executor/platform/default/dso_loader.cc:64] Could not load dynamic library 'libcuda.so.1'; dlerror: libcuda.so.1: cannot open shared object file: No such file or directory\n",
      "2022-12-08 03:13:11.304508: W tensorflow/stream_executor/cuda/cuda_driver.cc:269] failed call to cuInit: UNKNOWN ERROR (303)\n",
      "2022-12-08 03:13:11.304532: I tensorflow/stream_executor/cuda/cuda_diagnostics.cc:156] kernel driver does not appear to be running on this host (jupyter-psw2i): /proc/driver/nvidia/version does not exist\n",
      "2022-12-08 03:13:11.304762: I tensorflow/core/platform/cpu_feature_guard.cc:151] This TensorFlow binary is optimized with oneAPI Deep Neural Network Library (oneDNN) to use the following CPU instructions in performance-critical operations:  SSE4.1 SSE4.2 AVX AVX2 FMA\n",
      "To enable them in other operations, rebuild TensorFlow with the appropriate compiler flags.\n"
     ]
    }
   ],
   "source": [
    "ff_dim = 32\n",
    "x = keras.layers.Input(data.shape[1])\n",
    "y = keras.layers.Dense(ff_dim,activation='tanh')(x)\n",
    "y = keras.layers.Dense(len(np.unique(classes)),\n",
    "                        activation=keras.activations.softmax)(y)\n",
    "model = keras.Model(x,y)\n",
    "\n",
    "model.compile(optimizer=keras.optimizers.Adam(learning_rate=0.01),\n",
    "loss=keras.losses.SparseCategoricalCrossentropy(),\n",
    "metrics=keras.metrics.SparseCategoricalAccuracy())\n",
    "model.summary()"
   ]
  },
  {
   "cell_type": "markdown",
   "id": "c43289f3-f1a9-479b-baa3-db95b4db42a1",
   "metadata": {},
   "source": [
    "# Model diagram"
   ]
  },
  {
   "cell_type": "code",
   "execution_count": 13,
   "id": "a3c4bdbd-0a5d-4e1c-a843-a82d5438e268",
   "metadata": {},
   "outputs": [
    {
     "data": {
      "image/png": "[encoded data removed]",
      "text/plain": [
       "<IPython.core.display.Image object>"
      ]
     },
     "execution_count": 13,
     "metadata": {},
     "output_type": "execute_result"
    }
   ],
   "source": [
    "keras.utils.plot_model(model,show_shapes=True,expand_nested=True)"
   ]
  },
  {
   "cell_type": "markdown",
   "id": "33a750f9-be2f-4b5c-86b5-2f7b66044f10",
   "metadata": {},
   "source": [
    "# Training the model"
   ]
  },
  {
   "cell_type": "code",
   "execution_count": null,
   "id": "1a460181-0232-45ae-bb37-bf0db306fd3c",
   "metadata": {},
   "outputs": [
    {
     "name": "stdout",
     "output_type": "stream",
     "text": [
      "Epoch 1/21\n",
      "2500/2500 [==============================] - 2s 828us/step - loss: 0.1788 - sparse_categorical_accuracy: 0.9431 - val_loss: 0.1373 - val_sparse_categorical_accuracy: 0.9558\n",
      "Epoch 2/21\n",
      "2500/2500 [==============================] - 2s 778us/step - loss: 0.1363 - sparse_categorical_accuracy: 0.9584 - val_loss: 0.1342 - val_sparse_categorical_accuracy: 0.9548\n",
      "Epoch 3/21\n",
      "2500/2500 [==============================] - 2s 787us/step - loss: 0.1263 - sparse_categorical_accuracy: 0.9618 - val_loss: 0.1174 - val_sparse_categorical_accuracy: 0.9654\n",
      "Epoch 4/21\n",
      "2500/2500 [==============================] - 2s 787us/step - loss: 0.1218 - sparse_categorical_accuracy: 0.9631 - val_loss: 0.1147 - val_sparse_categorical_accuracy: 0.9669\n",
      "Epoch 5/21\n",
      "2500/2500 [==============================] - 2s 794us/step - loss: 0.1196 - sparse_categorical_accuracy: 0.9636 - val_loss: 0.1131 - val_sparse_categorical_accuracy: 0.9669\n",
      "Epoch 6/21\n",
      "2500/2500 [==============================] - 2s 779us/step - loss: 0.1178 - sparse_categorical_accuracy: 0.9639 - val_loss: 0.1169 - val_sparse_categorical_accuracy: 0.9651\n",
      "Epoch 7/21\n",
      "2500/2500 [==============================] - 2s 789us/step - loss: 0.1168 - sparse_categorical_accuracy: 0.9645 - val_loss: 0.1279 - val_sparse_categorical_accuracy: 0.9604\n",
      "Epoch 8/21\n",
      "2500/2500 [==============================] - 2s 928us/step - loss: 0.1154 - sparse_categorical_accuracy: 0.9651 - val_loss: 0.1196 - val_sparse_categorical_accuracy: 0.9677\n",
      "Epoch 9/21\n",
      " 841/2500 [=========>....................] - ETA: 1s - loss: 0.1149 - sparse_categorical_accuracy: 0.9654"
     ]
    }
   ],
   "source": [
    "history = model.fit(data,classes,\n",
    "    validation_split=0.2,\n",
    "    epochs=21,\n",
    "    verbose=1)"
   ]
  },
  {
   "cell_type": "markdown",
   "id": "135c401b-79e1-4c90-9a96-6ddadfa743c4",
   "metadata": {},
   "source": [
    "# Plots showing the effects of training the model"
   ]
  },
  {
   "cell_type": "code",
   "execution_count": null,
   "id": "f76cca76-49ae-41e8-ae43-2f496e1c795e",
   "metadata": {},
   "outputs": [],
   "source": [
    "plt.plot(history.history['loss'])\n",
    "plt.plot(history.history['val_loss'])\n",
    "plt.legend(['Training','Validation'])\n",
    "plt.xlabel('Epoch')\n",
    "plt.ylabel('CCE Loss')\n",
    "plt.show()"
   ]
  },
  {
   "cell_type": "code",
   "execution_count": null,
   "id": "d4a852ca-2e06-4c6a-806c-19ab465121d0",
   "metadata": {},
   "outputs": [],
   "source": [
    "plt.plot(history.history['sparse_categorical_accuracy'])\n",
    "plt.plot(history.history['val_sparse_categorical_accuracy'])\n",
    "plt.legend(['Training','Validation'])\n",
    "plt.xlabel('Epoch')\n",
    "plt.ylabel('Accuracy (P)')\n",
    "plt.show()"
   ]
  },
  {
   "cell_type": "code",
   "execution_count": null,
   "id": "2410e263-f37c-4b28-9d57-6d658b87d094",
   "metadata": {},
   "outputs": [],
   "source": [
    "print(\"Validation accuracy:\",*[\"%.8f\"%(x) for x in history.history['val_sparse_categorical_accuracy'][0::10]])"
   ]
  }
 ],
 "metadata": {
  "kernelspec": {
   "display_name": "Python 3 (ipykernel)",
   "language": "python",
   "name": "python3"
  },
  "language_info": {
   "codemirror_mode": {
    "name": "ipython",
    "version": 3
   },
   "file_extension": ".py",
   "mimetype": "text/x-python",
   "name": "python",
   "nbconvert_exporter": "python",
   "pygments_lexer": "ipython3",
   "version": "3.10.5"
  }
 },
 "nbformat": 4,
 "nbformat_minor": 5
}
